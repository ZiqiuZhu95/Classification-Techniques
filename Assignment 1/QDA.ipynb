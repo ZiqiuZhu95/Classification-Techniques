{
 "cells": [
  {
   "cell_type": "code",
   "execution_count": 3,
   "metadata": {},
   "outputs": [],
   "source": [
    "import numpy as np\n",
    "import math\n",
    "import scipy.io\n",
    "import matplotlib.pyplot as plt\n",
    "from matplotlib.offsetbox import AnnotationBbox, OffsetImage"
   ]
  },
  {
   "cell_type": "code",
   "execution_count": 5,
   "metadata": {},
   "outputs": [],
   "source": [
    "mat = scipy.io.loadmat('D:/Users/Ziqiu/OneDrive/Documents/University Docs/Stat441/Stat441 A1/0_1_2.mat')\n",
    "df = mat['X']\n",
    "dft = df.transpose()\n",
    "dft -= dft.mean(axis=0)\n",
    "'''\n",
    "test = np.matmul(df,df.transpose())\n",
    "test.transpose() == dft\n",
    "'''\n",
    "\n",
    "U, S, Vh = np.linalg.svd(dft)\n",
    "pca = np.matmul(dft,Vh.transpose())\n",
    "Y = pca[:,0:2]"
   ]
  },
  {
   "cell_type": "code",
   "execution_count": 6,
   "metadata": {},
   "outputs": [],
   "source": [
    "label0 = Y[0:100,:]\n",
    "label1 = Y[100:200,:]\n",
    "label2 = Y[200:300,:]\n",
    "u0 = label0.mean(axis=0)\n",
    "u1 = label1.mean(axis=0)\n",
    "u2 = label2.mean(axis=0)\n",
    "\n",
    "s1 = np.cov(label0.T)\n",
    "s2 = np.cov(label1.T)\n",
    "s3 = np.cov(label2.T)\n",
    "s = (s1 + s2 + s3)/3\n",
    "Sinv=(np.linalg.inv(s))"
   ]
  },
  {
   "cell_type": "code",
   "execution_count": 7,
   "metadata": {},
   "outputs": [],
   "source": [
    "#For QDA\n",
    "\n",
    "def Q_argmaxd(x):\n",
    "    def q0(x):\n",
    "        return -0.5 * np.log(abs(np.linalg.det(s1))) - 0.5 * (x - u0).T @ np.linalg.inv(s1) @ (x - u0)\n",
    "    def q1(x):\n",
    "        return -0.5 * np.log(abs(np.linalg.det(s2))) - 0.5 * (x - u1).T @ np.linalg.inv(s2) @ (x - u1)\n",
    "    def q2(x):\n",
    "        return -0.5 * np.log(abs(np.linalg.det(s3))) - 0.5 * (x - u2).T @ np.linalg.inv(s3) @ (x - u2)\n",
    "    if max(q0(x),q1(x),q2(x)) == q0(x):\n",
    "        return 0\n",
    "    if max(q0(x),q1(x),q2(x)) == q1(x):\n",
    "        return 1\n",
    "    return 2\n",
    "\n",
    "def Q_classifier(x):\n",
    "    return [Q_argmaxd(i) for i in x]"
   ]
  },
  {
   "cell_type": "code",
   "execution_count": 8,
   "metadata": {},
   "outputs": [],
   "source": [
    "x_min, x_max = Y[:, 0].min() - 1, Y[:, 0].max() + 1\n",
    "y_min, y_max = Y[:, 1].min() - 1, Y[:, 1].max() + 1\n",
    "\n",
    "h = 0.02\n",
    "xx, yy = np.meshgrid(np.arange(x_min, x_max, h),\n",
    "                     np.arange(y_min, y_max, h))\n",
    "Q_Z = np.array(Q_classifier(np.c_[xx.ravel(), yy.ravel()]))\n",
    "Q_Z = Q_Z.reshape(xx.shape)"
   ]
  },
  {
   "cell_type": "code",
   "execution_count": 9,
   "metadata": {},
   "outputs": [
    {
     "data": {
      "image/png": "[encoded data removed]",
      "text/plain": [
       "<Figure size 432x288 with 1 Axes>"
      ]
     },
     "metadata": {
      "needs_background": "light"
     },
     "output_type": "display_data"
    }
   ],
   "source": [
    "X=np.reshape(mat['X'], (8,8,300))\n",
    "\n",
    "def plotimages(images, Y, scale=0.9, proportion=0.2):\n",
    "    '''\n",
    "    Input:\n",
    "        images: images, must be in a 3-dimensional matrix (x by y by n)\n",
    "            e.g. if X is 64 by 400 and size of each image is 8 by 8, images=np.reshape(X,(8,8,400));\n",
    "        Y: coordinates of where to plot the image (Y(1,:) by Y(2,:)\n",
    "        scale: scale of each image wrt to figure size (scale <= 1, e.g. 0.8)\n",
    "        proportion: proportion of the data to be ploted (proportion <= 1)\n",
    "            e.g. if there are 400 data points proportion = 1, plots\n",
    "            all 400 data points and proportion = 0.5 plot only 200 data points \n",
    "            (i.e. 1th, 3th, 5th, ...)\n",
    "    Ali Ghodsi 2006\n",
    "    '''\n",
    "    \n",
    "    inc = np.floor(1/proportion)\n",
    "    \n",
    "    image_width = images.shape[0]\n",
    "    image_height = images.shape[1] \n",
    "    n_images = images.shape[2]\n",
    "    \n",
    "    plt.gray()\n",
    "    fig = plt.gcf()\n",
    "    fig.clf()\n",
    "    ax = plt.subplot(111)\n",
    "    ax.set_xlim((Y[0,:].min()*1.2,Y[0,:].max()*1.2))\n",
    "    ax.set_ylim((Y[1,:].min()*1.2,Y[1,:].max()*1.2))\n",
    "    \n",
    "    for counter in np.arange(0,n_images,inc):\n",
    "        counter = int(counter)\n",
    "        xy = (Y[0,counter],Y[1,counter])\n",
    "        current_image = 1-np.reshape(images[:,:,counter], (image_width,image_height))\n",
    "        imagebox = OffsetImage(current_image, zoom=scale)\n",
    "        ab = AnnotationBbox(imagebox, xy, xybox=(1., -1.), xycoords='data', boxcoords=\"offset points\", frameon=False)                                  \n",
    "        ax.add_artist(ab)\n",
    "        plt.draw()\n",
    "    plt.contour(xx, yy, Q_Z, cmap=plt.cm.Paired)    \n",
    "    plt.show()\n",
    "    \n",
    "plotimages(X, Y.transpose())"
   ]
  },
  {
   "cell_type": "code",
   "execution_count": 10,
   "metadata": {},
   "outputs": [
    {
     "name": "stdout",
     "output_type": "stream",
     "text": [
      "0.06309617079109309\n",
      "[14.97602563  3.35527381]\n",
      "[[-0.11568778 -0.4514136 ]\n",
      " [-0.4514136   1.30457285]]\n"
     ]
    }
   ],
   "source": [
    "#Calculating decision boundaries between class 1 and class 0\n",
    "#constant terms\n",
    "print(-u1.T @ np.linalg.inv(s2) @ u1 + u0.T @ np.linalg.inv(s1) @ u0)\n",
    "#linear terms\n",
    "print(2*u1.T @ np.linalg.inv(s2) - 2*u0.T @ np.linalg.inv(s1))\n",
    "#Quadratic terms\n",
    "print(np.linalg.inv(s1) - np.linalg.inv(s2))"
   ]
  },
  {
   "cell_type": "code",
   "execution_count": 11,
   "metadata": {},
   "outputs": [
    {
     "name": "stdout",
     "output_type": "stream",
     "text": [
      "4.784709924334375\n",
      "[-7.27142858 -0.12958265]\n",
      "[[-2.9963472  -0.02587864]\n",
      " [-0.02587864 -2.16653189]]\n"
     ]
    }
   ],
   "source": [
    "#Calculating decision boundaries between class 2 and class 1\n",
    "#constant terms\n",
    "print(-u2.T @ np.linalg.inv(s3) @ u2 + u1.T @ np.linalg.inv(s2) @ u1)\n",
    "#linear terms\n",
    "print(2*u2.T @ np.linalg.inv(s3) - 2*u1.T @ np.linalg.inv(s2))\n",
    "#Quadratic terms\n",
    "print(np.linalg.inv(s2) - np.linalg.inv(s3))"
   ]
  },
  {
   "cell_type": "code",
   "execution_count": 12,
   "metadata": {},
   "outputs": [],
   "source": [
    "def F_argmaxd(x):\n",
    "    def f0(x):\n",
    "        return (x - u0).T @ (x - u0)\n",
    "    def f1(x):\n",
    "        return (x - u1).T @ (x - u1)\n",
    "    def f2(x):\n",
    "        return (x - u2).T @ (x - u2)\n",
    "    if max(f0(x),f1(x),f2(x)) == f0(x):\n",
    "        return 0\n",
    "    if max(f0(x),f1(x),f2(x)) == f1(x):\n",
    "        return 1\n",
    "    return 2\n",
    "\n",
    "def F_classifier(x):\n",
    "    return [F_argmaxd(i) for i in x]"
   ]
  },
  {
   "cell_type": "code",
   "execution_count": 13,
   "metadata": {},
   "outputs": [
    {
     "name": "stdout",
     "output_type": "stream",
     "text": [
      "[ 5 95]\n",
      "[94  6]\n",
      "[53 47]\n",
      "[89  1 10]\n",
      "[ 0 90 10]\n",
      "[ 5  6 89]\n"
     ]
    }
   ],
   "source": [
    "print(np.bincount(F_classifier(Y[0:100,:])))\n",
    "print(np.bincount(F_classifier(Y[100:200,:])))\n",
    "print(np.bincount(F_classifier(Y[200:300,:])))\n",
    "print(np.bincount(Q_classifier(Y[0:100,:])))\n",
    "print(np.bincount(Q_classifier(Y[100:200,:])))\n",
    "print(np.bincount(Q_classifier(Y[200:300,:])))"
   ]
  },
  {
   "cell_type": "code",
   "execution_count": null,
   "metadata": {},
   "outputs": [],
   "source": []
  }
 ],
 "metadata": {
  "kernelspec": {
   "display_name": "Python 3",
   "language": "python",
   "name": "python3"
  },
  "language_info": {
   "codemirror_mode": {
    "name": "ipython",
    "version": 3
   },
   "file_extension": ".py",
   "mimetype": "text/x-python",
   "name": "python",
   "nbconvert_exporter": "python",
   "pygments_lexer": "ipython3",
   "version": "3.7.1"
  }
 },
 "nbformat": 4,
 "nbformat_minor": 2
}
