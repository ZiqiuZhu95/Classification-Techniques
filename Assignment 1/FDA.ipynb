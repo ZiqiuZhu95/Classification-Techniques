{
 "cells": [
  {
   "cell_type": "code",
   "execution_count": 6,
   "metadata": {},
   "outputs": [
    {
     "name": "stderr",
     "output_type": "stream",
     "text": [
      "C:\\Pleaswork\\lib\\site-packages\\ipykernel_launcher.py:8: DeprecationWarning: The Windows bytes API has been deprecated, use Unicode filenames instead\n",
      "  \n"
     ]
    }
   ],
   "source": [
    "import sys\n",
    "import numpy as np\n",
    "from numpy.linalg import norm\n",
    "import scipy.io\n",
    "import os\n",
    "import matplotlib.pyplot as plt\n",
    "from matplotlib.offsetbox import AnnotationBbox, OffsetImage"
   ]
  },
  {
   "cell_type": "code",
   "execution_count": 8,
   "metadata": {},
   "outputs": [
    {
     "data": {
      "text/plain": [
       "(300, 64)"
      ]
     },
     "execution_count": 8,
     "metadata": {},
     "output_type": "execute_result"
    }
   ],
   "source": [
    "mat = scipy.io.loadmat('D:/Users/Ziqiu/OneDrive/Documents/University Docs/Stat441/Stat441 A1/0_1_2.mat')\n",
    "df = mat['X']\n",
    "dft = df.transpose()\n",
    "dft.shape"
   ]
  },
  {
   "cell_type": "code",
   "execution_count": 10,
   "metadata": {},
   "outputs": [
    {
     "name": "stdout",
     "output_type": "stream",
     "text": [
      "(1, 64)\n",
      "(1, 64)\n",
      "(1, 64)\n"
     ]
    }
   ],
   "source": [
    "# Calculating the mean vectors\n",
    "u1 = dft[0:100,:].mean(axis=0).reshape((1,64))\n",
    "u2 = dft[100:200,:].mean(axis=0).reshape((1,64))\n",
    "u3 = dft[200:300,:].mean(axis=0).reshape((1,64))\n",
    "print(u1.shape)\n",
    "print(u2.shape)\n",
    "print(u3.shape)\n"
   ]
  },
  {
   "cell_type": "code",
   "execution_count": 11,
   "metadata": {},
   "outputs": [
    {
     "data": {
      "text/plain": [
       "(64, 64)"
      ]
     },
     "execution_count": 11,
     "metadata": {},
     "output_type": "execute_result"
    }
   ],
   "source": [
    "# Calculating within-class scatter matrices\n",
    "s1 = np.zeros((64,64))\n",
    "s2 = np.zeros((64,64))\n",
    "s3 = np.zeros((64,64))\n",
    "\n",
    "for row in dft[0:100,:]:\n",
    "    row = row.reshape(64,1)\n",
    "    s1 += np.matmul((row - u1),(row-u1).T)\n",
    "for row in dft[100:200,:]:\n",
    "    row = row.reshape(64,1)\n",
    "    s2 += np.matmul((row - u2),(row-u1).T)\n",
    "for row in dft[200:300,:]:\n",
    "    row = row.reshape(64,1)\n",
    "    s3 += np.matmul((row - u3),(row-u1).T)\n",
    "Sw = s1 + s2 + s3\n",
    "Sw.shape\n"
   ]
  },
  {
   "cell_type": "code",
   "execution_count": 12,
   "metadata": {},
   "outputs": [
    {
     "data": {
      "text/plain": [
       "(64, 64)"
      ]
     },
     "execution_count": 12,
     "metadata": {},
     "output_type": "execute_result"
    }
   ],
   "source": [
    "# Calculating between-class scatter matrices\n",
    "overall_mean = np.mean(dft, axis=0)\n",
    "overall_mean = np.reshape(overall_mean, (64,1))\n",
    "u1 = np.reshape(u1, (64,1))\n",
    "u2 = np.reshape(u2, (64,1))\n",
    "u3 = np.reshape(u3, (64,1))\n",
    "Sb = 100*np.matmul((u1 - overall_mean),(u1 - overall_mean).T) + 100*np.matmul((u2 - overall_mean),(u2 - overall_mean).T) + 100*np.matmul((u3 - overall_mean),(u3 - overall_mean).T)\n",
    "Sb.shape\n"
   ]
  },
  {
   "cell_type": "code",
   "execution_count": 13,
   "metadata": {},
   "outputs": [
    {
     "name": "stdout",
     "output_type": "stream",
     "text": [
      "(64,)\n",
      "(64, 64)\n"
     ]
    }
   ],
   "source": [
    "eig_vals, eig_vecs = np.linalg.eig(np.linalg.inv(Sw).dot(Sb))\n",
    "print(eig_vals.shape)\n",
    "print(eig_vecs.shape)\n"
   ]
  },
  {
   "cell_type": "code",
   "execution_count": 15,
   "metadata": {},
   "outputs": [],
   "source": [
    "for i in range(len(eig_vals)):\n",
    "    eigv = eig_vecs[:,i].reshape(64,1)\n",
    "    np.testing.assert_array_almost_equal(np.linalg.inv(Sw).dot(Sb).dot(eigv),\n",
    "                                        eig_vals[i] * eigv,\n",
    "                                        decimal=6, err_msg='', verbose=True)"
   ]
  },
  {
   "cell_type": "code",
   "execution_count": 16,
   "metadata": {},
   "outputs": [
    {
     "name": "stdout",
     "output_type": "stream",
     "text": [
      "Eigenvalues in decreasing order:\n",
      "\n",
      "0.014206198481527826\n",
      "0.014091398119733842\n",
      "9.739859718278602e-17\n",
      "8.742204225984198e-17\n",
      "6.959544629066328e-17\n",
      "6.210696520941808e-17\n",
      "4.741860981611312e-17\n",
      "4.470106578691867e-17\n",
      "4.1651305864100993e-17\n",
      "4.1651305864100993e-17\n",
      "3.03057729363756e-17\n",
      "3.03057729363756e-17\n",
      "2.979894429750794e-17\n",
      "2.8930121958789285e-17\n",
      "2.8930121958789285e-17\n",
      "2.78944884378602e-17\n",
      "2.4230497685615296e-17\n",
      "2.4230497685615296e-17\n",
      "2.3270405894330007e-17\n",
      "2.3270405894330007e-17\n",
      "2.1564618422685087e-17\n",
      "2.1564618422685087e-17\n",
      "1.961799646145959e-17\n",
      "1.961799646145959e-17\n",
      "1.8758709154122752e-17\n",
      "1.8758709154122752e-17\n",
      "1.7551211004589484e-17\n",
      "1.6930169431453887e-17\n",
      "1.387977540891006e-17\n",
      "1.387977540891006e-17\n",
      "1.3828886161588392e-17\n",
      "1.3828886161588392e-17\n",
      "1.353709325800195e-17\n",
      "1.353709325800195e-17\n",
      "1.3292516475123497e-17\n",
      "1.3292516475123497e-17\n",
      "1.1805466628006483e-17\n",
      "1.1805466628006483e-17\n",
      "1.1312779967875392e-17\n",
      "8.61878757263884e-18\n",
      "8.61878757263884e-18\n",
      "8.075359397983554e-18\n",
      "7.785936228589627e-18\n",
      "7.785936228589627e-18\n",
      "6.14375671376838e-18\n",
      "6.14375671376838e-18\n",
      "5.834860488590793e-18\n",
      "5.591880155677678e-18\n",
      "5.591880155677678e-18\n",
      "5.4553995885687655e-18\n",
      "5.4553995885687655e-18\n",
      "4.8731711989724455e-18\n",
      "4.5007893286021524e-18\n",
      "4.5007893286021524e-18\n",
      "4.367102999639588e-18\n",
      "4.367102999639588e-18\n",
      "4.045165465982839e-18\n",
      "3.954521307838458e-18\n",
      "3.954521307838458e-18\n",
      "2.8229697957778957e-18\n",
      "2.8229697957778957e-18\n",
      "2.269209420111226e-18\n",
      "2.269209420111226e-18\n",
      "1.1097041120950405e-18\n"
     ]
    }
   ],
   "source": [
    "# Make a list of (eigenvalue, eigenvector) tuples\n",
    "eig_pairs = [(np.abs(eig_vals[i]), eig_vecs[:,i]) for i in range(len(eig_vals))]\n",
    "\n",
    "# Sort the (eigenvalue, eigenvector) tuples from high to low\n",
    "eig_pairs = sorted(eig_pairs, key=lambda k: k[0], reverse=True)\n",
    "\n",
    "# Visually confirm that the list is correctly sorted by decreasing eigenvalues\n",
    "\n",
    "print('Eigenvalues in decreasing order:\\n')\n",
    "for i in eig_pairs:\n",
    "    print(i[0])\n"
   ]
  },
  {
   "cell_type": "code",
   "execution_count": 17,
   "metadata": {},
   "outputs": [
    {
     "name": "stdout",
     "output_type": "stream",
     "text": [
      "Variance explained:\n",
      "\n",
      "eigenvalue 1: 50.20%\n",
      "eigenvalue 2: 49.80%\n",
      "eigenvalue 3: 0.00%\n",
      "eigenvalue 4: 0.00%\n",
      "eigenvalue 5: 0.00%\n",
      "eigenvalue 6: 0.00%\n",
      "eigenvalue 7: 0.00%\n",
      "eigenvalue 8: 0.00%\n",
      "eigenvalue 9: 0.00%\n",
      "eigenvalue 10: 0.00%\n",
      "eigenvalue 11: 0.00%\n",
      "eigenvalue 12: 0.00%\n",
      "eigenvalue 13: 0.00%\n",
      "eigenvalue 14: 0.00%\n",
      "eigenvalue 15: 0.00%\n",
      "eigenvalue 16: 0.00%\n",
      "eigenvalue 17: 0.00%\n",
      "eigenvalue 18: 0.00%\n",
      "eigenvalue 19: 0.00%\n",
      "eigenvalue 20: 0.00%\n",
      "eigenvalue 21: 0.00%\n",
      "eigenvalue 22: 0.00%\n",
      "eigenvalue 23: 0.00%\n",
      "eigenvalue 24: 0.00%\n",
      "eigenvalue 25: 0.00%\n",
      "eigenvalue 26: 0.00%\n",
      "eigenvalue 27: 0.00%\n",
      "eigenvalue 28: 0.00%\n",
      "eigenvalue 29: 0.00%\n",
      "eigenvalue 30: 0.00%\n",
      "eigenvalue 31: 0.00%\n",
      "eigenvalue 32: 0.00%\n",
      "eigenvalue 33: 0.00%\n",
      "eigenvalue 34: 0.00%\n",
      "eigenvalue 35: 0.00%\n",
      "eigenvalue 36: 0.00%\n",
      "eigenvalue 37: 0.00%\n",
      "eigenvalue 38: 0.00%\n",
      "eigenvalue 39: 0.00%\n",
      "eigenvalue 40: 0.00%\n",
      "eigenvalue 41: 0.00%\n",
      "eigenvalue 42: 0.00%\n",
      "eigenvalue 43: 0.00%\n",
      "eigenvalue 44: 0.00%\n",
      "eigenvalue 45: 0.00%\n",
      "eigenvalue 46: 0.00%\n",
      "eigenvalue 47: 0.00%\n",
      "eigenvalue 48: 0.00%\n",
      "eigenvalue 49: 0.00%\n",
      "eigenvalue 50: 0.00%\n",
      "eigenvalue 51: 0.00%\n",
      "eigenvalue 52: 0.00%\n",
      "eigenvalue 53: 0.00%\n",
      "eigenvalue 54: 0.00%\n",
      "eigenvalue 55: 0.00%\n",
      "eigenvalue 56: 0.00%\n",
      "eigenvalue 57: 0.00%\n",
      "eigenvalue 58: 0.00%\n",
      "eigenvalue 59: 0.00%\n",
      "eigenvalue 60: 0.00%\n",
      "eigenvalue 61: 0.00%\n",
      "eigenvalue 62: 0.00%\n",
      "eigenvalue 63: 0.00%\n",
      "eigenvalue 64: 0.00%\n"
     ]
    }
   ],
   "source": [
    "print('Variance explained:\\n')\n",
    "eigv_sum = sum(eig_vals)\n",
    "for i,j in enumerate(eig_pairs):\n",
    "    print('eigenvalue {0:}: {1:.2%}'.format(i+1, (j[0]/eigv_sum).real))"
   ]
  },
  {
   "cell_type": "code",
   "execution_count": 18,
   "metadata": {},
   "outputs": [
    {
     "name": "stdout",
     "output_type": "stream",
     "text": [
      "Matrix W:\n",
      " [[-0.49297847  0.11555882]\n",
      " [ 0.1643801   0.11554127]\n",
      " [-0.10848272  0.01080208]\n",
      " [-0.03070909  0.06501444]\n",
      " [-0.05289179  0.04574709]\n",
      " [ 0.03746294 -0.00815163]\n",
      " [-0.07397434  0.05456382]\n",
      " [ 0.01471517 -0.2403825 ]\n",
      " [-0.10679185  0.22461002]\n",
      " [-0.0039239   0.03487992]\n",
      " [ 0.04392542  0.14145974]\n",
      " [ 0.01010245  0.03673356]\n",
      " [ 0.02274563 -0.01625175]\n",
      " [-0.02162177  0.05633167]\n",
      " [ 0.01796709 -0.22670831]\n",
      " [ 0.05242456  0.13106499]\n",
      " [ 0.05255097  0.01039563]\n",
      " [-0.06890084 -0.1568363 ]\n",
      " [ 0.013711   -0.04882741]\n",
      " [-0.17356751  0.03820385]\n",
      " [ 0.01988122  0.04089733]\n",
      " [ 0.13564259 -0.09942269]\n",
      " [ 0.06355454  0.10689484]\n",
      " [ 0.0067414   0.07682407]\n",
      " [ 0.26978997 -0.41383985]\n",
      " [ 0.11036146 -0.2111628 ]\n",
      " [ 0.26135949 -0.243779  ]\n",
      " [ 0.35645909 -0.31940319]\n",
      " [ 0.01528293 -0.11538471]\n",
      " [-0.08925286 -0.03645208]\n",
      " [-0.03146203 -0.02626235]\n",
      " [ 0.19360043 -0.02582024]\n",
      " [ 0.24836177  0.1215557 ]\n",
      " [ 0.18758683  0.09457413]\n",
      " [-0.26716795  0.04225971]\n",
      " [-0.05913872 -0.1397933 ]\n",
      " [ 0.1533653  -0.03662827]\n",
      " [ 0.0392685  -0.00671795]\n",
      " [ 0.07170059 -0.10452019]\n",
      " [ 0.00964836 -0.0627806 ]\n",
      " [ 0.06331956  0.09536603]\n",
      " [-0.06207165  0.09057822]\n",
      " [-0.07198987 -0.01148742]\n",
      " [-0.11104907  0.0125665 ]\n",
      " [-0.07943032 -0.05251874]\n",
      " [-0.01866121  0.11516337]\n",
      " [-0.07409897  0.06128617]\n",
      " [ 0.022765   -0.01012448]\n",
      " [ 0.0168582   0.24710848]\n",
      " [-0.04303683  0.09820428]\n",
      " [ 0.00882869  0.06247046]\n",
      " [-0.05992014  0.02577314]\n",
      " [-0.0390791   0.06009048]\n",
      " [-0.01070312 -0.0368633 ]\n",
      " [-0.00511204  0.09621537]\n",
      " [-0.00330562  0.04915494]\n",
      " [-0.01623129  0.14856481]\n",
      " [ 0.04468949 -0.13770118]\n",
      " [ 0.05523629  0.16709079]\n",
      " [ 0.03294873  0.07474978]\n",
      " [-0.1401254  -0.12589257]\n",
      " [ 0.03498349  0.1418622 ]\n",
      " [-0.0029781   0.07124715]\n",
      " [-0.16521312  0.06312219]]\n"
     ]
    }
   ],
   "source": [
    "W = np.hstack((eig_pairs[0][1].reshape(64,1), eig_pairs[1][1].reshape(64,1)))\n",
    "print('Matrix W:\\n', W.real)"
   ]
  },
  {
   "cell_type": "code",
   "execution_count": 19,
   "metadata": {},
   "outputs": [
    {
     "data": {
      "text/plain": [
       "(300, 2)"
      ]
     },
     "execution_count": 19,
     "metadata": {},
     "output_type": "execute_result"
    }
   ],
   "source": [
    "Y = dft.dot(W)\n",
    "Y.shape"
   ]
  },
  {
   "cell_type": "code",
   "execution_count": 20,
   "metadata": {},
   "outputs": [
    {
     "name": "stderr",
     "output_type": "stream",
     "text": [
      "C:\\Pleaswork\\lib\\site-packages\\matplotlib\\transforms.py:949: ComplexWarning: Casting complex values to real discards the imaginary part\n",
      "  self._points[:, 0] = interval\n",
      "C:\\Pleaswork\\lib\\site-packages\\matplotlib\\transforms.py:954: ComplexWarning: Casting complex values to real discards the imaginary part\n",
      "  self._points[:, 1] = interval\n",
      "C:\\Pleaswork\\lib\\site-packages\\matplotlib\\text.py:1785: ComplexWarning: Casting complex values to real discards the imaginary part\n",
      "  x = float(self.convert_xunits(x))\n",
      "C:\\Pleaswork\\lib\\site-packages\\matplotlib\\text.py:1787: ComplexWarning: Casting complex values to real discards the imaginary part\n",
      "  y = float(self.convert_yunits(y))\n"
     ]
    },
    {
     "data": {
      "image/png": "[encoded data removed]",
      "text/plain": [
       "<Figure size 432x288 with 1 Axes>"
      ]
     },
     "metadata": {
      "needs_background": "light"
     },
     "output_type": "display_data"
    }
   ],
   "source": [
    "X=np.reshape(mat['X'], (8,8,300))\n",
    "\n",
    "def plotimages(images, Y, scale=0.9, proportion=0.2):\n",
    "    '''\n",
    "    Input:\n",
    "        images: images, must be in a 3-dimensional matrix (x by y by n)\n",
    "            e.g. if X is 64 by 400 and size of each image is 8 by 8, images=np.reshape(X,(8,8,400));\n",
    "        Y: coordinates of where to plot the image (Y(1,:) by Y(2,:)\n",
    "        scale: scale of each image wrt to figure size (scale <= 1, e.g. 0.8)\n",
    "        proportion: proportion of the data to be ploted (proportion <= 1)\n",
    "            e.g. if there are 400 data points proportion = 1, plots\n",
    "            all 400 data points and proportion = 0.5 plot only 200 data points \n",
    "            (i.e. 1th, 3th, 5th, ...)\n",
    "    '''\n",
    "    Y /= norm(Y, axis = 1, ord=2).reshape((Y.shape[0],1))\n",
    "    \n",
    "    inc = np.floor(1/proportion)\n",
    "    \n",
    "    image_width = images.shape[0]\n",
    "    image_height = images.shape[1] \n",
    "    n_images = images.shape[2]\n",
    "    \n",
    "    plt.gray()\n",
    "    fig = plt.gcf()\n",
    "    fig.clf()\n",
    "    ax = plt.subplot(111)\n",
    "    ax.set_xlim((Y[0,:].min()*1.2,Y[0,:].max()*1.2))\n",
    "    ax.set_ylim((Y[1,:].min()*1.2,Y[1,:].max()*1.2))\n",
    "    \n",
    "    for counter in np.arange(0,n_images,inc):\n",
    "        counter = int(counter)\n",
    "        xy = (Y[0,counter],Y[1,counter])\n",
    "        current_image = 1-np.reshape(images[:,:,counter], (image_width,image_height))\n",
    "        imagebox = OffsetImage(current_image, zoom=scale)\n",
    "        ab = AnnotationBbox(imagebox, xy, xybox=(1., -1.), xycoords='data', boxcoords=\"offset points\", frameon=False)                                  \n",
    "        ax.add_artist(ab)\n",
    "        plt.draw()\n",
    "    plt.show()\n",
    "    \n",
    "plotimages(X, Y.transpose())\n"
   ]
  }
 ],
 "metadata": {
  "kernelspec": {
   "display_name": "Python 3",
   "language": "python",
   "name": "python3"
  },
  "language_info": {
   "codemirror_mode": {
    "name": "ipython",
    "version": 3
   },
   "file_extension": ".py",
   "mimetype": "text/x-python",
   "name": "python",
   "nbconvert_exporter": "python",
   "pygments_lexer": "ipython3",
   "version": "3.7.1"
  }
 },
 "nbformat": 4,
 "nbformat_minor": 2
}
