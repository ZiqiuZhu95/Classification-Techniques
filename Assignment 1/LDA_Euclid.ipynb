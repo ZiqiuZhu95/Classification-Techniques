{
 "cells": [
  {
   "cell_type": "code",
   "execution_count": 1,
   "metadata": {},
   "outputs": [],
   "source": [
    "import numpy as np\n",
    "import math\n",
    "import scipy.io\n",
    "import matplotlib.pyplot as plt\n",
    "from matplotlib.offsetbox import AnnotationBbox, OffsetImage"
   ]
  },
  {
   "cell_type": "code",
   "execution_count": 3,
   "metadata": {},
   "outputs": [],
   "source": [
    "mat = scipy.io.loadmat('D:/Users/Ziqiu/OneDrive/Documents/University Docs/Stat441/Stat441 A1/0_1_2.mat')\n",
    "X = mat['X']\n",
    "Xt = X.transpose()"
   ]
  },
  {
   "cell_type": "code",
   "execution_count": 4,
   "metadata": {},
   "outputs": [
    {
     "name": "stdout",
     "output_type": "stream",
     "text": [
      "(64, 1)\n",
      "[[0.00400682 0.00906338 0.00518106 ... 0.00561793 0.00765606 0.00354949]\n",
      " [0.00906338 0.0272553  0.02398712 ... 0.02451793 0.02409646 0.00777778]\n",
      " [0.00518106 0.02398712 0.03081635 ... 0.03268151 0.02537901 0.00529188]\n",
      " ...\n",
      " [0.00561793 0.02451793 0.03268151 ... 0.0504507  0.0344982  0.00651107]\n",
      " [0.00765606 0.02409646 0.02537901 ... 0.0344982  0.03254986 0.00982473]\n",
      " [0.00354949 0.00777778 0.00529188 ... 0.00651107 0.00982473 0.00492994]]\n",
      "[[ 0.01364173  0.02181471  0.01519609 ...  0.00257858 -0.00097509\n",
      "   0.00014663]\n",
      " [ 0.02181471  0.05727935  0.05120695 ...  0.00237176  0.00241228\n",
      "   0.00433046]\n",
      " [ 0.01519609  0.05120695  0.07945555 ...  0.00756886  0.01445372\n",
      "   0.01383705]\n",
      " ...\n",
      " [ 0.00257858  0.00237176  0.00756886 ...  0.0666688   0.04010499\n",
      "   0.01075499]\n",
      " [-0.00097509  0.00241228  0.01445372 ...  0.04010499  0.06881895\n",
      "   0.03457552]\n",
      " [ 0.00014663  0.00433046  0.01383705 ...  0.01075499  0.03457552\n",
      "   0.03581996]]\n"
     ]
    }
   ],
   "source": [
    "label0 = Xt[0:100,:]\n",
    "label1 = Xt[100:200,:]\n",
    "label2 = Xt[200:300,:]\n",
    "u0 = label0.mean(axis=0).reshape(64,1)\n",
    "u1 = label1.mean(axis=0).reshape(64,1)\n",
    "u2 = label2.mean(axis=0).reshape(64,1)\n",
    "\n",
    "s1 = np.cov(label0.T)\n",
    "s2 = np.cov(label1.T)\n",
    "s3 = np.cov(label2.T)\n",
    "s = (s1 + s2 + s3)/3\n",
    "Sinv=(np.linalg.inv(s))\n",
    "print(u1.shape)\n",
    "print(s2)\n",
    "print(s3)\n"
   ]
  },
  {
   "cell_type": "code",
   "execution_count": 5,
   "metadata": {},
   "outputs": [],
   "source": [
    "def argmaxd(x):\n",
    "    def d0(x):\n",
    "        return x.T @ Sinv @ u0 - 0.5 * u0.T @ Sinv @ u0 + math.log(1/3)\n",
    "    def d1(x):\n",
    "        return x.T @ Sinv @ u1 - 0.5 * u1.T @ Sinv @ u1 + math.log(1/3)\n",
    "    def d2(x):\n",
    "        return x.T @ Sinv @ u2 - 0.5 * u2.T @ Sinv @ u2 + math.log(1/3)\n",
    "    if max(d0(x),d1(x),d2(x)) == d0(x):\n",
    "        return 0\n",
    "    if max(d0(x),d1(x),d2(x)) == d1(x):\n",
    "        return 1\n",
    "    return 2\n",
    "\n",
    "def classifier(x):\n",
    "    return [argmaxd(i) for i in x]"
   ]
  },
  {
   "cell_type": "code",
   "execution_count": 6,
   "metadata": {},
   "outputs": [
    {
     "name": "stdout",
     "output_type": "stream",
     "text": [
      "[98  2]\n",
      "[  0 100]\n",
      "[  0   0 100]\n"
     ]
    }
   ],
   "source": [
    "classifier(Xt)\n",
    "print(np.bincount(classifier(Xt[0:100,:])))\n",
    "print(np.bincount(classifier(Xt[100:200,:])))\n",
    "print(np.bincount(classifier(Xt[200:300,:])))"
   ]
  },
  {
   "cell_type": "code",
   "execution_count": null,
   "metadata": {},
   "outputs": [],
   "source": []
  }
 ],
 "metadata": {
  "kernelspec": {
   "display_name": "Python 3",
   "language": "python",
   "name": "python3"
  },
  "language_info": {
   "codemirror_mode": {
    "name": "ipython",
    "version": 3
   },
   "file_extension": ".py",
   "mimetype": "text/x-python",
   "name": "python",
   "nbconvert_exporter": "python",
   "pygments_lexer": "ipython3",
   "version": "3.7.1"
  }
 },
 "nbformat": 4,
 "nbformat_minor": 2
}
