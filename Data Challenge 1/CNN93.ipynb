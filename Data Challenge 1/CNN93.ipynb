{
 "cells": [
  {
   "cell_type": "code",
   "execution_count": 2,
   "metadata": {},
   "outputs": [],
   "source": [
    "import numpy as np \n",
    "import pandas as pd \n",
    "import matplotlib.pyplot as plt \n",
    "from collections import Counter\n",
    "import itertools\n",
    "import seaborn as sns\n",
    "from subprocess import check_output\n",
    "%matplotlib inline"
   ]
  },
  {
   "cell_type": "code",
   "execution_count": 2,
   "metadata": {},
   "outputs": [
    {
     "data": {
      "text/plain": [
       "(10000, 785)"
      ]
     },
     "execution_count": 2,
     "metadata": {},
     "output_type": "execute_result"
    }
   ],
   "source": [
    "train = pd.read_csv(\"D:/Users/Ziqiu/OneDrive/Documents/University Docs/Stat441/DataChallenge 1/fashion-mnist_train.csv\")\n",
    "#print(x_train.shape)\n",
    "#x_train.head()\n",
    "test = pd.read_csv(\"D:/Users/Ziqiu/OneDrive/Documents/University Docs/Stat441/DataChallenge 1/test_data.csv\")\n",
    "test.shape"
   ]
  },
  {
   "cell_type": "code",
   "execution_count": 3,
   "metadata": {},
   "outputs": [
    {
     "data": {
      "text/plain": [
       "Counter({2: 6000,\n",
       "         9: 6000,\n",
       "         6: 6000,\n",
       "         0: 6000,\n",
       "         3: 6000,\n",
       "         4: 6000,\n",
       "         5: 6000,\n",
       "         8: 6000,\n",
       "         7: 6000,\n",
       "         1: 6000})"
      ]
     },
     "execution_count": 3,
     "metadata": {},
     "output_type": "execute_result"
    }
   ],
   "source": [
    "z_train = Counter(train['label'])\n",
    "z_train"
   ]
  },
  {
   "cell_type": "code",
   "execution_count": 4,
   "metadata": {},
   "outputs": [
    {
     "name": "stderr",
     "output_type": "stream",
     "text": [
      "C:\\Users\\Ziqiu Zhu\\Documents\\Anaconda\\lib\\site-packages\\ipykernel_launcher.py:1: DeprecationWarning: \n",
      ".ix is deprecated. Please use\n",
      ".loc for label based indexing or\n",
      ".iloc for positional indexing\n",
      "\n",
      "See the documentation here:\n",
      "http://pandas.pydata.org/pandas-docs/stable/indexing.html#ix-indexer-is-deprecated\n",
      "  \"\"\"Entry point for launching an IPython kernel.\n",
      "C:\\Users\\Ziqiu Zhu\\Documents\\Anaconda\\lib\\site-packages\\ipykernel_launcher.py:2: DeprecationWarning: \n",
      ".ix is deprecated. Please use\n",
      ".loc for label based indexing or\n",
      ".iloc for positional indexing\n",
      "\n",
      "See the documentation here:\n",
      "http://pandas.pydata.org/pandas-docs/stable/indexing.html#ix-indexer-is-deprecated\n",
      "  \n",
      "C:\\Users\\Ziqiu Zhu\\Documents\\Anaconda\\lib\\site-packages\\ipykernel_launcher.py:3: DeprecationWarning: \n",
      ".ix is deprecated. Please use\n",
      ".loc for label based indexing or\n",
      ".iloc for positional indexing\n",
      "\n",
      "See the documentation here:\n",
      "http://pandas.pydata.org/pandas-docs/stable/indexing.html#ix-indexer-is-deprecated\n",
      "  This is separate from the ipykernel package so we can avoid doing imports until\n"
     ]
    }
   ],
   "source": [
    "x_train = train.ix[:,1:].values.astype('float32') # all pixel values\n",
    "y_train = train.ix[:,0].values.astype('int32') # only labels i.e targets digits\n",
    "x_test = test.ix[:,1:].values.astype('float32')"
   ]
  },
  {
   "cell_type": "code",
   "execution_count": 6,
   "metadata": {},
   "outputs": [],
   "source": [
    "from sklearn.preprocessing import Normalizer\n",
    "\n",
    "scaler_xtrain = Normalizer().fit(x_train)\n",
    "normalized_xtrain = scaler_xtrain.transform(x_train)\n",
    "\n",
    "scaler_xtest = Normalizer().fit(x_test)\n",
    "normalized_xtest = scaler_xtest.transform(x_test)"
   ]
  },
  {
   "cell_type": "code",
   "execution_count": 8,
   "metadata": {},
   "outputs": [
    {
     "name": "stderr",
     "output_type": "stream",
     "text": [
      "Using TensorFlow backend.\n"
     ]
    }
   ],
   "source": [
    "import keras\n",
    "from keras.models import Sequential\n",
    "from keras.layers import Dense, Dropout, Flatten, Conv2D, MaxPool2D\n",
    "from keras.layers.normalization import BatchNormalization\n",
    "from keras.preprocessing.image import ImageDataGenerator\n",
    "from keras.callbacks import ReduceLROnPlateau\n",
    "from sklearn.model_selection import train_test_split\n",
    "batch_size = 32\n",
    "num_classes = 10\n",
    "epochs = 60\n",
    "input_shape = (28, 28, 1)"
   ]
  },
  {
   "cell_type": "code",
   "execution_count": 9,
   "metadata": {},
   "outputs": [
    {
     "data": {
      "text/plain": [
       "array([2, 9, 6, ..., 8, 8, 7])"
      ]
     },
     "execution_count": 9,
     "metadata": {},
     "output_type": "execute_result"
    }
   ],
   "source": [
    "X_train = x_train.reshape(x_train.shape[0], 28, 28,1)\n",
    "X_test = x_test.reshape(x_test.shape[0], 28, 28,1)\n",
    "y_train"
   ]
  },
  {
   "cell_type": "code",
   "execution_count": 10,
   "metadata": {},
   "outputs": [],
   "source": [
    "y_train = keras.utils.to_categorical(y_train, num_classes)\n",
    "X_train, X_val, Y_train, Y_val = train_test_split(X_train, y_train, test_size = 0.07, random_state=42)"
   ]
  },
  {
   "cell_type": "code",
   "execution_count": 11,
   "metadata": {},
   "outputs": [],
   "source": [
    "model = Sequential()\n",
    "model.add(Conv2D(32, kernel_size=(3, 3),activation='relu',kernel_initializer='he_normal',input_shape=input_shape))\n",
    "model.add(Conv2D(32, kernel_size=(3, 3),activation='relu',kernel_initializer='he_normal'))\n",
    "model.add(MaxPool2D((2, 2)))\n",
    "model.add(Dropout(0.15))\n",
    "model.add(Conv2D(64, (3, 3), activation='relu',padding='same',kernel_initializer='he_normal'))\n",
    "model.add(Conv2D(64, (3, 3), activation='relu',padding='same',kernel_initializer='he_normal'))\n",
    "model.add(MaxPool2D(pool_size=(2, 2)))\n",
    "model.add(Dropout(0.20))\n",
    "model.add(Conv2D(64, (3, 3), activation='relu',padding='same',kernel_initializer='he_normal'))\n",
    "model.add(Conv2D(64, (3, 3), activation='relu',padding='same',kernel_initializer='he_normal'))\n",
    "model.add(MaxPool2D(pool_size=(2, 2)))\n",
    "model.add(Dropout(0.25))\n",
    "model.add(Conv2D(128, (3, 3), activation='relu',padding='same',kernel_initializer='he_normal'))\n",
    "model.add(Dropout(0.25))\n",
    "model.add(Flatten())\n",
    "model.add(Dense(128, activation='relu'))\n",
    "model.add(BatchNormalization())\n",
    "model.add(Dropout(0.25))\n",
    "model.add(Dense(num_classes, activation='softmax'))\n",
    "\n",
    "model.compile(loss=keras.losses.categorical_crossentropy,\n",
    "              optimizer=keras.optimizers.RMSprop(),\n",
    "              metrics=['accuracy'])\n",
    "\n",
    "learning_rate_reduction = ReduceLROnPlateau(monitor='val_acc', \n",
    "                                            patience=3, \n",
    "                                            verbose=1, \n",
    "                                            factor=0.5, \n",
    "                                            min_lr=0.0001)\n",
    "\n",
    "datagen = ImageDataGenerator(\n",
    "        featurewise_center=False,\n",
    "        samplewise_center=False, \n",
    "        featurewise_std_normalization=False, \n",
    "        samplewise_std_normalization=False, \n",
    "        zca_whitening=False,  \n",
    "        rotation_range=15, \n",
    "        zoom_range = 0.1, \n",
    "        width_shift_range=0.1,  \n",
    "        height_shift_range=0.1,  \n",
    "        horizontal_flip=False,  \n",
    "        vertical_flip=False) "
   ]
  },
  {
   "cell_type": "code",
   "execution_count": 12,
   "metadata": {},
   "outputs": [
    {
     "data": {
      "text/plain": [
       "(60000, 10)"
      ]
     },
     "execution_count": 12,
     "metadata": {},
     "output_type": "execute_result"
    }
   ],
   "source": [
    "y_train.shape"
   ]
  },
  {
   "cell_type": "code",
   "execution_count": 13,
   "metadata": {
    "scrolled": true
   },
   "outputs": [
    {
     "name": "stdout",
     "output_type": "stream",
     "text": [
      "_________________________________________________________________\n",
      "Layer (type)                 Output Shape              Param #   \n",
      "=================================================================\n",
      "conv2d_1 (Conv2D)            (None, 26, 26, 32)        320       \n",
      "_________________________________________________________________\n",
      "conv2d_2 (Conv2D)            (None, 24, 24, 32)        9248      \n",
      "_________________________________________________________________\n",
      "max_pooling2d_1 (MaxPooling2 (None, 12, 12, 32)        0         \n",
      "_________________________________________________________________\n",
      "dropout_1 (Dropout)          (None, 12, 12, 32)        0         \n",
      "_________________________________________________________________\n",
      "conv2d_3 (Conv2D)            (None, 12, 12, 64)        18496     \n",
      "_________________________________________________________________\n",
      "conv2d_4 (Conv2D)            (None, 12, 12, 64)        36928     \n",
      "_________________________________________________________________\n",
      "max_pooling2d_2 (MaxPooling2 (None, 6, 6, 64)          0         \n",
      "_________________________________________________________________\n",
      "dropout_2 (Dropout)          (None, 6, 6, 64)          0         \n",
      "_________________________________________________________________\n",
      "conv2d_5 (Conv2D)            (None, 6, 6, 64)          36928     \n",
      "_________________________________________________________________\n",
      "conv2d_6 (Conv2D)            (None, 6, 6, 64)          36928     \n",
      "_________________________________________________________________\n",
      "max_pooling2d_3 (MaxPooling2 (None, 3, 3, 64)          0         \n",
      "_________________________________________________________________\n",
      "dropout_3 (Dropout)          (None, 3, 3, 64)          0         \n",
      "_________________________________________________________________\n",
      "conv2d_7 (Conv2D)            (None, 3, 3, 128)         73856     \n",
      "_________________________________________________________________\n",
      "dropout_4 (Dropout)          (None, 3, 3, 128)         0         \n",
      "_________________________________________________________________\n",
      "flatten_1 (Flatten)          (None, 1152)              0         \n",
      "_________________________________________________________________\n",
      "dense_1 (Dense)              (None, 128)               147584    \n",
      "_________________________________________________________________\n",
      "batch_normalization_1 (Batch (None, 128)               512       \n",
      "_________________________________________________________________\n",
      "dropout_5 (Dropout)          (None, 128)               0         \n",
      "_________________________________________________________________\n",
      "dense_2 (Dense)              (None, 10)                1290      \n",
      "=================================================================\n",
      "Total params: 362,090\n",
      "Trainable params: 361,834\n",
      "Non-trainable params: 256\n",
      "_________________________________________________________________\n"
     ]
    }
   ],
   "source": [
    "model.summary()"
   ]
  },
  {
   "cell_type": "code",
   "execution_count": 14,
   "metadata": {},
   "outputs": [
    {
     "name": "stdout",
     "output_type": "stream",
     "text": [
      "Epoch 1/60\n",
      "1743/1743 [==============================] - 28s 16ms/step - loss: 0.8323 - acc: 0.6905 - val_loss: 0.4636 - val_acc: 0.8136\n",
      "Epoch 2/60\n",
      "1743/1743 [==============================] - 24s 14ms/step - loss: 0.5355 - acc: 0.8035 - val_loss: 0.3748 - val_acc: 0.8569\n",
      "Epoch 3/60\n",
      "1743/1743 [==============================] - 25s 14ms/step - loss: 0.4528 - acc: 0.8375 - val_loss: 0.2928 - val_acc: 0.8888\n",
      "Epoch 4/60\n",
      "1743/1743 [==============================] - 24s 14ms/step - loss: 0.4205 - acc: 0.8482 - val_loss: 0.2882 - val_acc: 0.8933\n",
      "Epoch 5/60\n",
      "1743/1743 [==============================] - 25s 15ms/step - loss: 0.3972 - acc: 0.8582 - val_loss: 0.3250 - val_acc: 0.8852\n",
      "Epoch 6/60\n",
      "1743/1743 [==============================] - 27s 15ms/step - loss: 0.3802 - acc: 0.8643 - val_loss: 0.3012 - val_acc: 0.8945\n",
      "Epoch 7/60\n",
      "1743/1743 [==============================] - 27s 15ms/step - loss: 0.3710 - acc: 0.8675 - val_loss: 0.3011 - val_acc: 0.9007\n",
      "Epoch 8/60\n",
      "1743/1743 [==============================] - 26s 15ms/step - loss: 0.3593 - acc: 0.8714 - val_loss: 0.2842 - val_acc: 0.8950\n",
      "Epoch 9/60\n",
      "1743/1743 [==============================] - 26s 15ms/step - loss: 0.3533 - acc: 0.8742 - val_loss: 0.2422 - val_acc: 0.9090\n",
      "Epoch 10/60\n",
      "1743/1743 [==============================] - 26s 15ms/step - loss: 0.3450 - acc: 0.8774 - val_loss: 0.2750 - val_acc: 0.9050\n",
      "Epoch 11/60\n",
      "1743/1743 [==============================] - 26s 15ms/step - loss: 0.3363 - acc: 0.8807 - val_loss: 0.2476 - val_acc: 0.9126\n",
      "Epoch 12/60\n",
      "1743/1743 [==============================] - 27s 15ms/step - loss: 0.3359 - acc: 0.8801 - val_loss: 0.2339 - val_acc: 0.9155\n",
      "Epoch 13/60\n",
      "1743/1743 [==============================] - 27s 15ms/step - loss: 0.3314 - acc: 0.8829 - val_loss: 0.2471 - val_acc: 0.9074\n",
      "Epoch 14/60\n",
      "1743/1743 [==============================] - 27s 15ms/step - loss: 0.3249 - acc: 0.8850 - val_loss: 0.2911 - val_acc: 0.8971\n",
      "Epoch 15/60\n",
      "1743/1743 [==============================] - 26s 15ms/step - loss: 0.3205 - acc: 0.8862 - val_loss: 0.2195 - val_acc: 0.9186\n",
      "Epoch 16/60\n",
      "1743/1743 [==============================] - 26s 15ms/step - loss: 0.3170 - acc: 0.8876 - val_loss: 0.2542 - val_acc: 0.9086\n",
      "Epoch 17/60\n",
      "1743/1743 [==============================] - 26s 15ms/step - loss: 0.3151 - acc: 0.8888 - val_loss: 0.2329 - val_acc: 0.9126\n",
      "Epoch 18/60\n",
      "1743/1743 [==============================] - 26s 15ms/step - loss: 0.3117 - acc: 0.8910 - val_loss: 0.2547 - val_acc: 0.9048\n",
      "\n",
      "Epoch 00018: ReduceLROnPlateau reducing learning rate to 0.0005000000237487257.\n",
      "Epoch 19/60\n",
      "1743/1743 [==============================] - 26s 15ms/step - loss: 0.2938 - acc: 0.8963 - val_loss: 0.2213 - val_acc: 0.9181\n",
      "Epoch 20/60\n",
      "1743/1743 [==============================] - 26s 15ms/step - loss: 0.2844 - acc: 0.8989 - val_loss: 0.2143 - val_acc: 0.9255\n",
      "Epoch 21/60\n",
      "1743/1743 [==============================] - 27s 15ms/step - loss: 0.2836 - acc: 0.9011 - val_loss: 0.2096 - val_acc: 0.9250\n",
      "Epoch 22/60\n",
      "1743/1743 [==============================] - 27s 16ms/step - loss: 0.2843 - acc: 0.8994 - val_loss: 0.2142 - val_acc: 0.9210\n",
      "Epoch 23/60\n",
      "1743/1743 [==============================] - 27s 15ms/step - loss: 0.2853 - acc: 0.8994 - val_loss: 0.2168 - val_acc: 0.9214\n",
      "\n",
      "Epoch 00023: ReduceLROnPlateau reducing learning rate to 0.0002500000118743628.\n",
      "Epoch 24/60\n",
      "1743/1743 [==============================] - 27s 16ms/step - loss: 0.2728 - acc: 0.9029 - val_loss: 0.2132 - val_acc: 0.9236\n",
      "Epoch 25/60\n",
      "1743/1743 [==============================] - 27s 16ms/step - loss: 0.2748 - acc: 0.9034 - val_loss: 0.2015 - val_acc: 0.9264\n",
      "Epoch 26/60\n",
      "1743/1743 [==============================] - 27s 16ms/step - loss: 0.2696 - acc: 0.9052 - val_loss: 0.2035 - val_acc: 0.9279\n",
      "Epoch 27/60\n",
      "1743/1743 [==============================] - 27s 16ms/step - loss: 0.2718 - acc: 0.9050 - val_loss: 0.2025 - val_acc: 0.9248\n",
      "Epoch 28/60\n",
      "1743/1743 [==============================] - 27s 15ms/step - loss: 0.2690 - acc: 0.9070 - val_loss: 0.1946 - val_acc: 0.9319\n",
      "Epoch 29/60\n",
      "1743/1743 [==============================] - 27s 15ms/step - loss: 0.2653 - acc: 0.9070 - val_loss: 0.2133 - val_acc: 0.9202\n",
      "Epoch 30/60\n",
      "1743/1743 [==============================] - 27s 15ms/step - loss: 0.2662 - acc: 0.9075 - val_loss: 0.2115 - val_acc: 0.9198\n",
      "Epoch 31/60\n",
      "1743/1743 [==============================] - 27s 15ms/step - loss: 0.2641 - acc: 0.9064 - val_loss: 0.1951 - val_acc: 0.9310\n",
      "\n",
      "Epoch 00031: ReduceLROnPlateau reducing learning rate to 0.0001250000059371814.\n",
      "Epoch 32/60\n",
      "1743/1743 [==============================] - 27s 15ms/step - loss: 0.2602 - acc: 0.9087 - val_loss: 0.2034 - val_acc: 0.9240\n",
      "Epoch 33/60\n",
      "1743/1743 [==============================] - 27s 15ms/step - loss: 0.2632 - acc: 0.9075 - val_loss: 0.1981 - val_acc: 0.9264\n",
      "Epoch 34/60\n",
      "1743/1743 [==============================] - 26s 15ms/step - loss: 0.2596 - acc: 0.9082 - val_loss: 0.2072 - val_acc: 0.9214\n",
      "\n",
      "Epoch 00034: ReduceLROnPlateau reducing learning rate to 0.0001.\n",
      "Epoch 35/60\n",
      "1743/1743 [==============================] - 26s 15ms/step - loss: 0.2563 - acc: 0.9107 - val_loss: 0.2010 - val_acc: 0.9262\n",
      "Epoch 36/60\n",
      "1743/1743 [==============================] - 26s 15ms/step - loss: 0.2578 - acc: 0.9085 - val_loss: 0.1992 - val_acc: 0.9248\n",
      "Epoch 37/60\n",
      "1743/1743 [==============================] - 26s 15ms/step - loss: 0.2581 - acc: 0.9096 - val_loss: 0.2071 - val_acc: 0.9236\n",
      "Epoch 38/60\n",
      "1743/1743 [==============================] - 26s 15ms/step - loss: 0.2597 - acc: 0.9084 - val_loss: 0.2108 - val_acc: 0.9205\n",
      "Epoch 39/60\n",
      "1743/1743 [==============================] - 26s 15ms/step - loss: 0.2551 - acc: 0.9110 - val_loss: 0.2055 - val_acc: 0.9236\n",
      "Epoch 40/60\n",
      "1743/1743 [==============================] - 26s 15ms/step - loss: 0.2581 - acc: 0.9095 - val_loss: 0.1940 - val_acc: 0.9300\n",
      "Epoch 41/60\n",
      "1743/1743 [==============================] - 26s 15ms/step - loss: 0.2571 - acc: 0.9099 - val_loss: 0.2087 - val_acc: 0.9231\n",
      "Epoch 42/60\n",
      "1743/1743 [==============================] - 27s 15ms/step - loss: 0.2535 - acc: 0.9110 - val_loss: 0.2026 - val_acc: 0.9236\n",
      "Epoch 43/60\n",
      "1743/1743 [==============================] - 26s 15ms/step - loss: 0.2543 - acc: 0.9109 - val_loss: 0.2052 - val_acc: 0.9243\n",
      "Epoch 44/60\n",
      "1743/1743 [==============================] - 26s 15ms/step - loss: 0.2556 - acc: 0.9107 - val_loss: 0.2038 - val_acc: 0.9245\n",
      "Epoch 45/60\n",
      "1743/1743 [==============================] - 26s 15ms/step - loss: 0.2550 - acc: 0.9099 - val_loss: 0.1965 - val_acc: 0.9274\n",
      "Epoch 46/60\n",
      "1743/1743 [==============================] - 26s 15ms/step - loss: 0.2574 - acc: 0.9109 - val_loss: 0.2117 - val_acc: 0.9198\n",
      "Epoch 47/60\n",
      "1743/1743 [==============================] - 27s 15ms/step - loss: 0.2521 - acc: 0.9122 - val_loss: 0.2102 - val_acc: 0.9236\n",
      "Epoch 48/60\n",
      "1743/1743 [==============================] - 27s 15ms/step - loss: 0.2557 - acc: 0.9107 - val_loss: 0.2100 - val_acc: 0.9217\n",
      "Epoch 49/60\n",
      "1743/1743 [==============================] - 27s 15ms/step - loss: 0.2516 - acc: 0.9107 - val_loss: 0.2061 - val_acc: 0.9217\n",
      "Epoch 50/60\n",
      "1743/1743 [==============================] - 26s 15ms/step - loss: 0.2549 - acc: 0.9108 - val_loss: 0.2033 - val_acc: 0.9260\n",
      "Epoch 51/60\n",
      "1743/1743 [==============================] - 27s 15ms/step - loss: 0.2502 - acc: 0.9126 - val_loss: 0.2025 - val_acc: 0.9238\n",
      "Epoch 52/60\n",
      "1743/1743 [==============================] - 26s 15ms/step - loss: 0.2527 - acc: 0.9125 - val_loss: 0.2032 - val_acc: 0.9245\n",
      "Epoch 53/60\n",
      "1743/1743 [==============================] - 26s 15ms/step - loss: 0.2518 - acc: 0.9127 - val_loss: 0.2026 - val_acc: 0.9248\n",
      "Epoch 54/60\n",
      "1743/1743 [==============================] - 26s 15ms/step - loss: 0.2552 - acc: 0.9112 - val_loss: 0.2030 - val_acc: 0.9248\n",
      "Epoch 55/60\n",
      "1743/1743 [==============================] - 26s 15ms/step - loss: 0.2519 - acc: 0.9121 - val_loss: 0.2067 - val_acc: 0.9219\n",
      "Epoch 56/60\n",
      "1743/1743 [==============================] - 26s 15ms/step - loss: 0.2506 - acc: 0.9106 - val_loss: 0.2159 - val_acc: 0.9200\n",
      "Epoch 57/60\n",
      "1743/1743 [==============================] - 26s 15ms/step - loss: 0.2526 - acc: 0.9128 - val_loss: 0.1974 - val_acc: 0.9283\n",
      "Epoch 58/60\n",
      "1743/1743 [==============================] - 26s 15ms/step - loss: 0.2539 - acc: 0.9107 - val_loss: 0.2091 - val_acc: 0.9238\n",
      "Epoch 59/60\n",
      "1743/1743 [==============================] - 26s 15ms/step - loss: 0.2477 - acc: 0.9133 - val_loss: 0.2048 - val_acc: 0.9252\n",
      "Epoch 60/60\n",
      "1743/1743 [==============================] - 26s 15ms/step - loss: 0.2519 - acc: 0.9123 - val_loss: 0.1984 - val_acc: 0.9300\n"
     ]
    }
   ],
   "source": [
    "datagen.fit(X_train)\n",
    "h = model.fit_generator(datagen.flow(X_train,Y_train, batch_size=batch_size),\n",
    "                              epochs = epochs, validation_data = (X_val,Y_val),\n",
    "                              verbose = 1, steps_per_epoch=X_train.shape[0] // batch_size\n",
    "                              , callbacks=[learning_rate_reduction],)"
   ]
  },
  {
   "cell_type": "code",
   "execution_count": 15,
   "metadata": {},
   "outputs": [
    {
     "name": "stdout",
     "output_type": "stream",
     "text": [
      "Final loss: 0.198443, final accuracy: 0.930000\n"
     ]
    }
   ],
   "source": [
    "final_loss, final_acc = model.evaluate(X_val, Y_val, verbose=0)\n",
    "print(\"Final loss: {0:.6f}, final accuracy: {1:.6f}\".format(final_loss, final_acc))"
   ]
  },
  {
   "cell_type": "code",
   "execution_count": 17,
   "metadata": {},
   "outputs": [],
   "source": [
    "#get the predictions for the test data\n",
    "predicted_classes = model.predict_classes(X_test)\n",
    "\n",
    "#get the indices to be plotted\n",
    "y_true = test.iloc[:, 0]\n",
    "correct = np.nonzero(predicted_classes==y_true)[0]\n",
    "incorrect = np.nonzero(predicted_classes!=y_true)[0]"
   ]
  },
  {
   "cell_type": "code",
   "execution_count": 18,
   "metadata": {},
   "outputs": [
    {
     "data": {
      "text/plain": [
       "(10000,)"
      ]
     },
     "execution_count": 18,
     "metadata": {},
     "output_type": "execute_result"
    }
   ],
   "source": [
    "predicted_classes.shape"
   ]
  },
  {
   "cell_type": "code",
   "execution_count": 3,
   "metadata": {},
   "outputs": [
    {
     "ename": "NameError",
     "evalue": "name 'predicted_classes' is not defined",
     "output_type": "error",
     "traceback": [
      "\u001b[1;31m---------------------------------------------------------------------------\u001b[0m",
      "\u001b[1;31mNameError\u001b[0m                                 Traceback (most recent call last)",
      "\u001b[1;32m<ipython-input-3-d0156447d36e>\u001b[0m in \u001b[0;36m<module>\u001b[1;34m\u001b[0m\n\u001b[1;32m----> 1\u001b[1;33m submissions=pd.DataFrame({\"ids\": list(range(0,len(predicted_classes))),\n\u001b[0m\u001b[0;32m      2\u001b[0m                          \"Forest Cover Type\": predicted_classes})\n\u001b[0;32m      3\u001b[0m \u001b[0msubmissions\u001b[0m\u001b[1;33m.\u001b[0m\u001b[0mto_csv\u001b[0m\u001b[1;33m(\u001b[0m\u001b[1;34m\"Submit1.csv\"\u001b[0m\u001b[1;33m,\u001b[0m \u001b[0mindex\u001b[0m\u001b[1;33m=\u001b[0m\u001b[1;32mFalse\u001b[0m\u001b[1;33m,\u001b[0m \u001b[0mheader\u001b[0m\u001b[1;33m=\u001b[0m\u001b[1;32mTrue\u001b[0m\u001b[1;33m)\u001b[0m\u001b[1;33m\u001b[0m\u001b[1;33m\u001b[0m\u001b[0m\n",
      "\u001b[1;31mNameError\u001b[0m: name 'predicted_classes' is not defined"
     ]
    }
   ],
   "source": [
    "submissions=pd.DataFrame({\"ids\": list(range(0,len(predicted_classes))),\n",
    "                         \"label\": predicted_classes})\n",
    "submissions.to_csv(\"Submit3.csv\", index=False, header=True)"
   ]
  }
 ],
 "metadata": {
  "kernelspec": {
   "display_name": "Python 3",
   "language": "python",
   "name": "python3"
  },
  "language_info": {
   "codemirror_mode": {
    "name": "ipython",
    "version": 3
   },
   "file_extension": ".py",
   "mimetype": "text/x-python",
   "name": "python",
   "nbconvert_exporter": "python",
   "pygments_lexer": "ipython3",
   "version": "3.6.7"
  }
 },
 "nbformat": 4,
 "nbformat_minor": 2
}
