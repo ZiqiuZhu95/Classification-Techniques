{
 "cells": [
  {
   "cell_type": "code",
   "execution_count": 2,
   "metadata": {},
   "outputs": [],
   "source": [
    "import numpy as np\n",
    "import scipy.io"
   ]
  },
  {
   "cell_type": "code",
   "execution_count": 3,
   "metadata": {},
   "outputs": [],
   "source": [
    "#load everything\n",
    "mat = scipy.io.loadmat('D:/Users/Ziqiu/OneDrive/Documents/University Docs/Stat441/A2/faces.mat')\n",
    "training_data = np.concatenate((mat['train_faces'], mat['train_nonfaces']))/255\n",
    "test_data = np.concatenate((mat['test_faces'], mat['test_nonfaces']))/255\n",
    "y_training = np.concatenate((np.ones((2429,1)),np.zeros((2429,1))))\n",
    "y_test = np.concatenate((np.ones((472,1)),np.zeros((472,1))))\n",
    "#row-wise observations\n"
   ]
  },
  {
   "cell_type": "code",
   "execution_count": 4,
   "metadata": {},
   "outputs": [],
   "source": [
    "#add a vector of 1s for beta_0 intercept\n",
    "t = np.ones((944,1))\n",
    "s = np.ones((4858,1))\n",
    "test_data = np.concatenate((test_data,t),axis=1) \n",
    "training_data = np.concatenate((training_data, s), axis=1) "
   ]
  },
  {
   "cell_type": "code",
   "execution_count": 5,
   "metadata": {},
   "outputs": [],
   "source": [
    "#Pi and Score Vector\n",
    "def pi(x, beta):\n",
    "    return 1 - 1 / (1 + np.exp(x @ beta))\n",
    "\n",
    "beta_old = np.zeros((362,1))\n",
    "p = pi(training_data, beta_old)\n",
    "\n",
    "def score(y, x, p):\n",
    "    return x.transpose() @ (y - p)"
   ]
  },
  {
   "cell_type": "code",
   "execution_count": 6,
   "metadata": {},
   "outputs": [],
   "source": [
    "#Information matrix\n",
    "\n",
    "def information(x, p):\n",
    "    diag = np.empty([0,1])\n",
    "    for i in range(np.shape(p)[0]):\n",
    "        diag = np.vstack((diag, p[i]*(1-p[i])))\n",
    "    W = np.diag(diag.transpose()[0])\n",
    "    return np.linalg.inv(x.transpose() @ W @ x)\n",
    "\n",
    "information(training_data, p)\n",
    "\n",
    "beta_new = beta_old + information(training_data, p) @ score(y_training, training_data, p)"
   ]
  },
  {
   "cell_type": "code",
   "execution_count": 7,
   "metadata": {},
   "outputs": [],
   "source": [
    "#loop\n",
    "for i in range(100):\n",
    "    beta_old = beta_new\n",
    "    p = pi(training_data, beta_old)\n",
    "    beta_new = beta_old + information(training_data, p) @ score(y_training, training_data, p)"
   ]
  },
  {
   "cell_type": "code",
   "execution_count": 8,
   "metadata": {},
   "outputs": [],
   "source": [
    "# Analyze Error Rates\n",
    "E1 = training_data @ beta_new\n",
    "error_training = 0\n",
    "for i in range(np.shape(E1[0:2429])[0]):\n",
    "    if E1[i] < 0:\n",
    "        error_training += 1\n",
    "for i in range(np.shape(E1[2429:4858])[0]):\n",
    "    if E1[2429:4858][i] > 0:\n",
    "        error_training +=1"
   ]
  },
  {
   "cell_type": "code",
   "execution_count": 9,
   "metadata": {},
   "outputs": [],
   "source": [
    "training_error = error_training / 4858\n",
    "# training error is 0.0146"
   ]
  },
  {
   "cell_type": "code",
   "execution_count": 10,
   "metadata": {},
   "outputs": [],
   "source": [
    "E2 = test_data @ beta_new\n",
    "error_test = 0\n",
    "for i in range(np.shape(E2[0:472])[0]):\n",
    "    if E1[i] < 0:\n",
    "        error_test += 1\n",
    "for i in range(np.shape(E2[472:944])[0]):\n",
    "    if E1[472:944][i] > 0:\n",
    "        error_test +=1"
   ]
  },
  {
   "cell_type": "code",
   "execution_count": 12,
   "metadata": {},
   "outputs": [
    {
     "data": {
      "text/plain": [
       "0.4915254237288136"
      ]
     },
     "execution_count": 12,
     "metadata": {},
     "output_type": "execute_result"
    }
   ],
   "source": [
    "test_error = error_test/944\n",
    "test_error"
   ]
  },
  {
   "cell_type": "code",
   "execution_count": null,
   "metadata": {},
   "outputs": [],
   "source": []
  }
 ],
 "metadata": {
  "kernelspec": {
   "display_name": "Python 3",
   "language": "python",
   "name": "python3"
  },
  "language_info": {
   "codemirror_mode": {
    "name": "ipython",
    "version": 3
   },
   "file_extension": ".py",
   "mimetype": "text/x-python",
   "name": "python",
   "nbconvert_exporter": "python",
   "pygments_lexer": "ipython3",
   "version": "3.7.1"
  }
 },
 "nbformat": 4,
 "nbformat_minor": 2
}
